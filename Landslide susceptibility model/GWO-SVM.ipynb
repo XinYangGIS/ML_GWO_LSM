{
 "cells": [
  {
   "cell_type": "markdown",
   "metadata": {},
   "source": [
    "### 1、Data preparation"
   ]
  },
  {
   "cell_type": "code",
   "execution_count": 3,
   "metadata": {},
   "outputs": [],
   "source": [
    "import pandas as pd \n",
    "import numpy as np\n",
    "\n",
    "data = pd.read_csv(\"TrainDataset_AfterMulti.csv\")\n",
    "X = data.iloc[:, :-1]\n",
    "y = np.array(data.iloc[: , -1])"
   ]
  },
  {
   "cell_type": "markdown",
   "metadata": {},
   "source": [
    "### 2、Train GWO-RF"
   ]
  },
  {
   "cell_type": "code",
   "execution_count": 60,
   "metadata": {},
   "outputs": [],
   "source": [
    "from sklearn.model_selection import train_test_split, cross_val_score, cross_validate\n",
    "X_train, X_test, y_train, y_test = train_test_split(X, y, test_size=0.3, random_state=None)"
   ]
  },
  {
   "cell_type": "code",
   "execution_count": 5,
   "metadata": {},
   "outputs": [],
   "source": [
    "X_train = pd.read_csv(\"SVM_X_train.csv\")\n",
    "X_test = pd.read_csv(\"SVM_X_test.csv\")\n",
    "X_train = X_train.iloc[:,1:]\n",
    "X_test = X_test.iloc[:,1:]"
   ]
  },
  {
   "cell_type": "code",
   "execution_count": 64,
   "metadata": {},
   "outputs": [],
   "source": [
    "# from sklearn.externals import joblib\n",
    "# clf2 = joblib.load('model/GWO_SVM.pkl')\n",
    "# clf2.coef_ "
   ]
  },
  {
   "cell_type": "code",
   "execution_count": 6,
   "metadata": {},
   "outputs": [],
   "source": [
    "from sklearn import svm\n",
    "# clf2 = svm.SVC(kernel = 'rbf', C = 0.563, gamma = 0.037,probability=True).fit(X_train, y_train)\n",
    "clf2 = svm.SVC(kernel = 'rbf', C = 0.048, gamma = 0.011,probability=True).fit(X_train, y_train)\n",
    "from sklearn.metrics import mean_squared_error\n",
    "Train_y_pred = clf2.predict(X_train)\n",
    "Vlid_y_pred = clf2.predict(X_test)\n",
    "mse_train = np.sqrt(mean_squared_error(y_train, Train_y_pred))\n",
    "mse_valid = np.sqrt(mean_squared_error(y_test, Vlid_y_pred))\n",
    "print(\"Molde with pure tree, Train MSE: {} Test MSE: {}\".format(mse_train, mse_valid))"
   ]
  },
  {
   "cell_type": "code",
   "execution_count": 289,
   "metadata": {},
   "outputs": [],
   "source": [
    "Vlid_y_prob = clf2.predict_proba(X_test)[:,1]\n",
    "Train_y_prob = clf2.predict_proba(X_train)[:,1]"
   ]
  },
  {
   "cell_type": "markdown",
   "metadata": {},
   "source": [
    "### 3、Plot learning curve"
   ]
  },
  {
   "cell_type": "code",
   "execution_count": 3,
   "metadata": {},
   "outputs": [],
   "source": [
    "from sklearn.model_selection import ShuffleSplit\n",
    "cv = ShuffleSplit(n_splits=10, test_size=0.2, random_state=0)"
   ]
  },
  {
   "cell_type": "code",
   "execution_count": 4,
   "metadata": {},
   "outputs": [],
   "source": [
    "from sklearn.model_selection import learning_curve\n",
    "train_sizes1, train_scores1, valid_scores1 = learning_curve( clf2, X_train, y_train, train_sizes=np.linspace(0.0000001, 1.0, 500), cv=cv, scoring='accuracy')\n",
    "# train_error = 1 - np.mean(train_scores1,axis=1)\n",
    "# test_error = 1 - np.mean(valid_scores1, axis=1)\n",
    "train_mean = np.mean(train_scores1,axis=1)\n",
    "train_std = np.std(train_scores1,axis=1)\n",
    "valid_mean = np.mean(valid_scores1, axis=1)\n",
    "valid_std = np.std(valid_scores1, axis=1)"
   ]
  },
  {
   "cell_type": "code",
   "execution_count": 8,
   "metadata": {},
   "outputs": [],
   "source": [
    "from matplotlib.pyplot import MultipleLocator\n",
    "import matplotlib.pyplot as plt\n",
    "fig = plt.figure(figsize=(5,3))\n",
    "plt.style.use('seaborn-notebook')\n",
    "plt.plot(train_sizes1, train_mean, color='blue',  markersize=5, label='Training score Std=±{0:.4f}'.format(train_std[6:].mean()))\n",
    "plt.fill_between(train_sizes1,train_mean+train_std,train_mean-train_std,alpha=0.15,color='blue')\n",
    "plt.plot(train_sizes1, valid_mean, color='red',  markersize=5, label='Cross-validation score Std=±{0:.4f}'.format(valid_std[6:].mean()))\n",
    "plt.fill_between(train_sizes1,valid_mean+train_std,valid_mean-train_std,alpha=0.15,color='red')\n",
    "# plt.grid()\n",
    "plt.rcParams['xtick.direction']='in'\n",
    "plt.rcParams['ytick.direction']='in'\n",
    "plt.xlabel('Number of training samples')\n",
    "plt.ylabel('Accuracy')\n",
    "plt.ylim([0.35,1.02])\n",
    "# plt.legend(loc='lower right')\n",
    "# plt.show()\n",
    "plt.savefig('SVM-leaningCurv600dpi.jpg', dpi=600)"
   ]
  },
  {
   "cell_type": "code",
   "execution_count": 68,
   "metadata": {},
   "outputs": [],
   "source": [
    "Vlid_y_prob = clf2.predict_proba(X_test)[:,1]\n",
    "Train_y_prob = clf2.predict_proba(X_train)[:,1]"
   ]
  },
  {
   "cell_type": "markdown",
   "metadata": {},
   "source": [
    "### 4、Metrics"
   ]
  },
  {
   "cell_type": "code",
   "execution_count": null,
   "metadata": {},
   "outputs": [],
   "source": [
    "from sklearn.metrics import classification_report, accuracy_score, confusion_matrix, cohen_kappa_score, mean_squared_error, mean_absolute_error\n",
    "# print(confusion_matrix(y_train, Train_y_pred, labels=[0,1]))\n",
    "tn, fp, fn, tp = confusion_matrix(y_train, Train_y_pred, labels=[0,1]).ravel()\n",
    "# tn, fp, fn, tp = confusion_matrix(y_test, Vlid_y_pred, labels=[0,1]).ravel()\n",
    "print(tn, fp, fn, tp)\n",
    "print(accuracy_score(y_train, Train_y_pred))\n",
    "# print(accuracy_score(y_test, Vlid_y_pred))\n",
    "print(classification_report(y_train, Train_y_pred))\n",
    "# print(classification_report(y_test, Vlid_y_pred))\n",
    "tpr = tp/(tp+fn)\n",
    "fpr = fp/(fp+tn)\n",
    "print('TPR:%s'%tpr,' FPR:%s'%fpr)\n",
    "cohen_kappa_score(y_train, Train_y_pred)\n",
    "# cohen_kappa_score(y_test, Vlid_y_pred)\n",
    "print(\"Kappa:%s\"%cohen_kappa_score(y_train, Train_y_pred))\n",
    "rmse_train = np.sqrt(mean_squared_error(y_train, Train_y_pred))\n",
    "rmse_valid = np.sqrt(mean_squared_error(y_test, Vlid_y_pred))\n",
    "print(\"Molde with pure tree, Train RMSE: {} Valid RMSE: {}\".format(rmse_train, rmse_valid))\n",
    "mse_train = mean_squared_error(y_train, Train_y_pred)\n",
    "mse_valid = mean_squared_error(y_test, Vlid_y_pred)\n",
    "print(\"Molde with pure tree, Train MSE: {} Valid MSE: {}\".format(mse_train, mse_valid))\n",
    "# mae_train = median_absolute_error(y_train, Train_y_pred)\n",
    "# mae_valid = median_absolute_error(y_test, Vlid_y_pred)\n",
    "# print(\"Molde with pure tree, Train MAE: {} Valid MAE: {}\".format(mae_train, mae_valid))\n"
   ]
  },
  {
   "cell_type": "code",
   "execution_count": 9,
   "metadata": {},
   "outputs": [],
   "source": [
    "from sklearn.metrics import roc_curve, auc\n",
    "import matplotlib as mpl\n",
    "import matplotlib.pyplot as plt\n",
    "plt.style.use('tableau-colorblind10')\n",
    "# FPR, TPR, thresholds = roc_curve(y_train, Train_y_prob)\n",
    "FPR, TPR, thresholds = roc_curve(y_test, Vlid_y_prob)\n",
    "roc_auc = auc(FPR, TPR)\n",
    "# FPR = FPR*100\n",
    "# FPR = FPR*100\n",
    "plt.figure(figsize=(5, 5), dpi=100)\n",
    "plt.title('ROC')\n",
    "plt.plot(FPR*100, TPR*100, 'b', label='AUC = %0.4f'%roc_auc)\n",
    "plt.legend(loc='best')\n",
    "plt.plot([0,100], [0,100],'r--')\n",
    "plt.ylabel('TPR')\n",
    "plt.xlabel('FPR')\n"
   ]
  },
  {
   "cell_type": "markdown",
   "metadata": {},
   "source": [
    "### 5、Save GWO-SVM model and predict"
   ]
  },
  {
   "cell_type": "code",
   "execution_count": 284,
   "metadata": {},
   "outputs": [
    {
     "output_type": "execute_result",
     "data": {
      "text/plain": "SVC(C=0.048, break_ties=False, cache_size=200, class_weight=None, coef0=0.0,\n    decision_function_shape='ovr', degree=3, gamma=0.011, kernel='rbf',\n    max_iter=-1, probability=True, random_state=None, shrinking=True, tol=0.001,\n    verbose=False)"
     },
     "metadata": {},
     "execution_count": 284
    }
   ],
   "source": [
    "# # 方法一--joblib\n",
    "# from sklearn.externals import joblib\n",
    "# import time\n",
    "# timenow = time.strftime('%Y_%m_%d_%H:%M:%S', time.localtime(time.time()))\n",
    "# # file = r'E:/研一文章/代码文件夹/model/GWO_RF_joblib' + '_' + mdhms\n",
    "# file = 'model/GWO_SVM.pkl'\n",
    "# joblib.dump(clf2, file)\n",
    "joblib.load('model/GWO_SVM.pkl')"
   ]
  },
  {
   "cell_type": "code",
   "execution_count": 285,
   "metadata": {},
   "outputs": [
    {
     "output_type": "execute_result",
     "data": {
      "text/plain": "(65000, 13)"
     },
     "metadata": {},
     "execution_count": 285
    }
   ],
   "source": [
    "data_random = pd.read_csv(\"RandomPoints.csv\")\n",
    "X_random = data_random.iloc[:, :]\n",
    "data_random.head()\n",
    "data_random.shape"
   ]
  },
  {
   "cell_type": "code",
   "execution_count": 286,
   "metadata": {},
   "outputs": [],
   "source": [
    "x_pred = clf2.predict(X_random)\n",
    "x_pred_prob = clf2.predict_proba(X_random)\n",
    "a = pd.DataFrame(x_pred)\n",
    "b = pd.DataFrame(x_pred_prob)\n",
    "c = pd.concat([a, b],axis=1)\n",
    "c.to_csv('65000pred-SVM.csv')"
   ]
  }
 ],
 "metadata": {
  "language_info": {
   "name": "python",
   "codemirror_mode": {
    "name": "ipython",
    "version": 3
   },
   "version": "3.7.7-final"
  },
  "orig_nbformat": 2,
  "file_extension": ".py",
  "mimetype": "text/x-python",
  "name": "python",
  "npconvert_exporter": "python",
  "pygments_lexer": "ipython3",
  "version": 3,
  "kernelspec": {
   "name": "python37764bitdeeplearningconda4a85c1bbcf04418daa54c3c51e13838f",
   "display_name": "Python 3.7.7 64-bit ('deeplearning': conda)"
  }
 },
 "nbformat": 4,
 "nbformat_minor": 2
}